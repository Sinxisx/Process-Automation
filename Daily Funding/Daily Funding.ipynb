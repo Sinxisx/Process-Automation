{
 "cells": [
  {
   "cell_type": "code",
   "execution_count": 1,
   "metadata": {},
   "outputs": [
    {
     "name": "stderr",
     "output_type": "stream",
     "text": [
      "c:\\Users\\MR38804\\AppData\\Local\\anaconda3\\envs\\Py64\\Lib\\site-packages\\paramiko\\pkey.py:82: CryptographyDeprecationWarning: TripleDES has been moved to cryptography.hazmat.decrepit.ciphers.algorithms.TripleDES and will be removed from this module in 48.0.0.\n",
      "  \"cipher\": algorithms.TripleDES,\n",
      "c:\\Users\\MR38804\\AppData\\Local\\anaconda3\\envs\\Py64\\Lib\\site-packages\\paramiko\\transport.py:219: CryptographyDeprecationWarning: Blowfish has been moved to cryptography.hazmat.decrepit.ciphers.algorithms.Blowfish and will be removed from this module in 45.0.0.\n",
      "  \"class\": algorithms.Blowfish,\n",
      "c:\\Users\\MR38804\\AppData\\Local\\anaconda3\\envs\\Py64\\Lib\\site-packages\\paramiko\\transport.py:243: CryptographyDeprecationWarning: TripleDES has been moved to cryptography.hazmat.decrepit.ciphers.algorithms.TripleDES and will be removed from this module in 48.0.0.\n",
      "  \"class\": algorithms.TripleDES,\n"
     ]
    }
   ],
   "source": [
    "import pandas as pd\n",
    "import numpy as np\n",
    "import oracledb\n",
    "from sqlalchemy import create_engine\n",
    "import os\n",
    "import glob\n",
    "import paramiko\n",
    "import io\n",
    "pd.set_option('display.max_columns',30)"
   ]
  },
  {
   "cell_type": "code",
   "execution_count": 48,
   "metadata": {},
   "outputs": [
    {
     "name": "stdout",
     "output_type": "stream",
     "text": [
      "c:\\Users\\MR38804\\AppData\\Local\\anaconda3\\envs\\Py64\\python.exe\n"
     ]
    }
   ],
   "source": [
    "import sys\n",
    "print(sys.executable)"
   ]
  },
  {
   "attachments": {},
   "cell_type": "markdown",
   "metadata": {},
   "source": [
    "# A. Load Data"
   ]
  },
  {
   "cell_type": "markdown",
   "metadata": {},
   "source": [
    "## 1. DBA: Master Funding-Master Table"
   ]
  },
  {
   "cell_type": "code",
   "execution_count": 2,
   "metadata": {},
   "outputs": [],
   "source": [
    "# credentials\n",
    "username = os.environ['DBA_USR']\n",
    "password = os.environ['DBA_PW']\n",
    "dsn = '10.220.50.121:1661/ANALYTIC'"
   ]
  },
  {
   "cell_type": "code",
   "execution_count": 3,
   "metadata": {},
   "outputs": [],
   "source": [
    "# create connection\n",
    "connection = oracledb.connect(user=username, password=password, dsn=dsn)"
   ]
  },
  {
   "cell_type": "code",
   "execution_count": 4,
   "metadata": {},
   "outputs": [],
   "source": [
    "# create engine\n",
    "engine = create_engine('oracle+oracledb://', creator=lambda: connection)"
   ]
  },
  {
   "cell_type": "code",
   "execution_count": 5,
   "metadata": {},
   "outputs": [],
   "source": [
    "# open and read the file as a single buffer\n",
    "mfQuery = open(r'MF.sql', 'r')\n",
    "sqlFile = mfQuery.read()\n",
    "mfQuery.close()"
   ]
  },
  {
   "cell_type": "code",
   "execution_count": 6,
   "metadata": {},
   "outputs": [],
   "source": [
    "# run query and store data in df\n",
    "MF = pd.read_sql(sqlFile, engine)"
   ]
  },
  {
   "cell_type": "code",
   "execution_count": 7,
   "metadata": {},
   "outputs": [],
   "source": [
    "# change column names into UPPER CASE\n",
    "MF.columns = [x.upper() for x in MF.columns]"
   ]
  },
  {
   "cell_type": "code",
   "execution_count": 8,
   "metadata": {},
   "outputs": [],
   "source": [
    "# create source column for MASTER FUNDING data (TBL_BAL)\n",
    "MF['SOURCE'] = 'TBL_BAL'"
   ]
  },
  {
   "cell_type": "code",
   "execution_count": 9,
   "metadata": {},
   "outputs": [],
   "source": [
    "# convert BASE_DT to int for compatibility reasons\n",
    "MF['BASE_DT'] = MF['BASE_DT'].astype(int)"
   ]
  },
  {
   "cell_type": "code",
   "execution_count": 10,
   "metadata": {},
   "outputs": [
    {
     "name": "stdout",
     "output_type": "stream",
     "text": [
      "<class 'pandas.core.frame.DataFrame'>\n",
      "RangeIndex: 117464 entries, 0 to 117463\n",
      "Data columns (total 41 columns):\n",
      " #   Column           Non-Null Count   Dtype  \n",
      "---  ------           --------------   -----  \n",
      " 0   BASE_DT          117464 non-null  int32  \n",
      " 1   BASE_YM          117464 non-null  object \n",
      " 2   AGREE_ID         117464 non-null  object \n",
      " 3   FLAG             117464 non-null  object \n",
      " 4   ACCT_NO          117464 non-null  object \n",
      " 5   ACCT_BR          117464 non-null  object \n",
      " 6   GCIF_CREATE_BR   117463 non-null  object \n",
      " 7   REGION           117462 non-null  object \n",
      " 8   AREA             117462 non-null  object \n",
      " 9   BRANCH           117462 non-null  object \n",
      " 10  GCIF_NO          117464 non-null  object \n",
      " 11  CIF_NO           117464 non-null  object \n",
      " 12  CUST_TYPE        117464 non-null  object \n",
      " 13  PROD_NM          117464 non-null  object \n",
      " 14  SUB_PROD_NM      117464 non-null  object \n",
      " 15  SEGMENT          117464 non-null  object \n",
      " 16  GCIF_NAME        117464 non-null  object \n",
      " 17  PROD_TYPE        117464 non-null  object \n",
      " 18  CURR_CODE        117464 non-null  object \n",
      " 19  SUB_LOB_CD       117464 non-null  object \n",
      " 20  RATE_DPK         117464 non-null  float64\n",
      " 21  BASE_AMT_FIX     117464 non-null  float64\n",
      " 22  MTD_AVG_AMT_FIX  117464 non-null  float64\n",
      " 23  MTD_INT_EXP      117464 non-null  float64\n",
      " 24  NPK_SALES        110860 non-null  object \n",
      " 25  COLT             1290 non-null    float64\n",
      " 26  COF_MTD          117464 non-null  float64\n",
      " 27  DTD              117351 non-null  float64\n",
      " 28  MTD              116933 non-null  float64\n",
      " 29  YTD              100066 non-null  float64\n",
      " 30  HIGH_COF_FLAG    0 non-null       object \n",
      " 31  SEGMENT_FIX      117464 non-null  object \n",
      " 32  LOB_SORT         117464 non-null  int64  \n",
      " 33  CASA_TD          117464 non-null  object \n",
      " 34  DTD_10B          117464 non-null  object \n",
      " 35  MTD_10B          117464 non-null  object \n",
      " 36  DIVISION         117464 non-null  object \n",
      " 37  STATUS           117464 non-null  object \n",
      " 38  SYSTEM_TYPE      117464 non-null  object \n",
      " 39  CTRL3            117464 non-null  object \n",
      " 40  SOURCE           117464 non-null  object \n",
      "dtypes: float64(9), int32(1), int64(1), object(30)\n",
      "memory usage: 36.3+ MB\n"
     ]
    }
   ],
   "source": [
    "MF.info()"
   ]
  },
  {
   "cell_type": "code",
   "execution_count": 11,
   "metadata": {},
   "outputs": [
    {
     "data": {
      "text/plain": [
       "Index(['BASE_DT', 'BASE_YM', 'AGREE_ID', 'FLAG', 'ACCT_NO', 'ACCT_BR',\n",
       "       'GCIF_CREATE_BR', 'REGION', 'AREA', 'BRANCH', 'GCIF_NO', 'CIF_NO',\n",
       "       'CUST_TYPE', 'PROD_NM', 'SUB_PROD_NM', 'SEGMENT', 'GCIF_NAME',\n",
       "       'PROD_TYPE', 'CURR_CODE', 'SUB_LOB_CD', 'RATE_DPK', 'BASE_AMT_FIX',\n",
       "       'MTD_AVG_AMT_FIX', 'MTD_INT_EXP', 'NPK_SALES', 'COLT', 'COF_MTD', 'DTD',\n",
       "       'MTD', 'YTD', 'HIGH_COF_FLAG', 'SEGMENT_FIX', 'LOB_SORT', 'CASA_TD',\n",
       "       'DTD_10B', 'MTD_10B', 'DIVISION', 'STATUS', 'SYSTEM_TYPE', 'CTRL3',\n",
       "       'SOURCE'],\n",
       "      dtype='object')"
      ]
     },
     "execution_count": 11,
     "metadata": {},
     "output_type": "execute_result"
    }
   ],
   "source": [
    "MF.columns"
   ]
  },
  {
   "cell_type": "markdown",
   "metadata": {},
   "source": [
    "## 2. Local Files"
   ]
  },
  {
   "cell_type": "code",
   "execution_count": 12,
   "metadata": {},
   "outputs": [],
   "source": [
    "path = os.getcwd()\n",
    "parDir = path"
   ]
  },
  {
   "cell_type": "markdown",
   "metadata": {},
   "source": [
    "### a. RMR"
   ]
  },
  {
   "cell_type": "code",
   "execution_count": 13,
   "metadata": {},
   "outputs": [],
   "source": [
    "# RMR dir\n",
    "RMR_Dir = parDir+'\\\\RMR\\\\'\n",
    "RMR_Files = list(filter(os.path.isfile, glob.glob(RMR_Dir + '*')))\n",
    "RMR_Files.sort()"
   ]
  },
  {
   "cell_type": "code",
   "execution_count": 14,
   "metadata": {},
   "outputs": [
    {
     "data": {
      "text/plain": [
       "['d:\\\\Work\\\\Process Automation\\\\Daily Funding\\\\RMR\\\\RMR 2408.xlsx']"
      ]
     },
     "execution_count": 14,
     "metadata": {},
     "output_type": "execute_result"
    }
   ],
   "source": [
    "# check files\n",
    "RMR_Files"
   ]
  },
  {
   "cell_type": "code",
   "execution_count": 15,
   "metadata": {},
   "outputs": [],
   "source": [
    "# read file(s)\n",
    "df_RMR = pd.read_excel(RMR_Files[-1])"
   ]
  },
  {
   "cell_type": "markdown",
   "metadata": {},
   "source": [
    "### b. Target"
   ]
  },
  {
   "cell_type": "code",
   "execution_count": 16,
   "metadata": {},
   "outputs": [],
   "source": [
    "# Target dir\n",
    "Target_Dir = parDir+'\\\\Target\\\\'\n",
    "Target_Files = list(filter(os.path.isfile, glob.glob(Target_Dir + '*')))\n",
    "Target_Files.sort()"
   ]
  },
  {
   "cell_type": "code",
   "execution_count": 17,
   "metadata": {},
   "outputs": [
    {
     "data": {
      "text/plain": [
       "['d:\\\\Work\\\\Process Automation\\\\Daily Funding\\\\Target\\\\Target 2409.xlsx']"
      ]
     },
     "execution_count": 17,
     "metadata": {},
     "output_type": "execute_result"
    }
   ],
   "source": [
    "# check files                                                                   \n",
    "Target_Files"
   ]
  },
  {
   "cell_type": "code",
   "execution_count": 18,
   "metadata": {},
   "outputs": [],
   "source": [
    "# read file(s)\n",
    "df_Target = pd.read_excel(Target_Files[-1])"
   ]
  },
  {
   "cell_type": "markdown",
   "metadata": {},
   "source": [
    "# B. Processing"
   ]
  },
  {
   "attachments": {},
   "cell_type": "markdown",
   "metadata": {},
   "source": [
    "## 1. MF Aggregate"
   ]
  },
  {
   "cell_type": "code",
   "execution_count": 19,
   "metadata": {},
   "outputs": [],
   "source": [
    "# aggregate columns\n",
    "MF_Agg = MF.groupby(['BASE_DT', 'BASE_YM', 'FLAG', 'SEGMENT', 'PROD_TYPE', 'DIVISION'], dropna=False)['BASE_AMT_FIX'].agg(BASE_AMT_FIX = 'sum')\n",
    "MF_Agg.reset_index(inplace=True)"
   ]
  },
  {
   "cell_type": "code",
   "execution_count": 20,
   "metadata": {},
   "outputs": [
    {
     "data": {
      "text/html": [
       "<div>\n",
       "<style scoped>\n",
       "    .dataframe tbody tr th:only-of-type {\n",
       "        vertical-align: middle;\n",
       "    }\n",
       "\n",
       "    .dataframe tbody tr th {\n",
       "        vertical-align: top;\n",
       "    }\n",
       "\n",
       "    .dataframe thead th {\n",
       "        text-align: right;\n",
       "    }\n",
       "</style>\n",
       "<table border=\"1\" class=\"dataframe\">\n",
       "  <thead>\n",
       "    <tr style=\"text-align: right;\">\n",
       "      <th></th>\n",
       "      <th>BASE_DT</th>\n",
       "      <th>BASE_YM</th>\n",
       "      <th>FLAG</th>\n",
       "      <th>SEGMENT</th>\n",
       "      <th>PROD_TYPE</th>\n",
       "      <th>DIVISION</th>\n",
       "      <th>BASE_AMT_FIX</th>\n",
       "    </tr>\n",
       "  </thead>\n",
       "  <tbody>\n",
       "    <tr>\n",
       "      <th>0</th>\n",
       "      <td>20241206</td>\n",
       "      <td>202412</td>\n",
       "      <td>Conven</td>\n",
       "      <td>CFS-NONRB-BB</td>\n",
       "      <td>CA</td>\n",
       "      <td>UNDEFINED</td>\n",
       "      <td>7.228744e+12</td>\n",
       "    </tr>\n",
       "    <tr>\n",
       "      <th>1</th>\n",
       "      <td>20241206</td>\n",
       "      <td>202412</td>\n",
       "      <td>Conven</td>\n",
       "      <td>CFS-NONRB-BB</td>\n",
       "      <td>SA</td>\n",
       "      <td>UNDEFINED</td>\n",
       "      <td>1.855442e+10</td>\n",
       "    </tr>\n",
       "    <tr>\n",
       "      <th>2</th>\n",
       "      <td>20241206</td>\n",
       "      <td>202412</td>\n",
       "      <td>Conven</td>\n",
       "      <td>CFS-NONRB-BB</td>\n",
       "      <td>TD</td>\n",
       "      <td>UNDEFINED</td>\n",
       "      <td>5.523886e+12</td>\n",
       "    </tr>\n",
       "    <tr>\n",
       "      <th>3</th>\n",
       "      <td>20241206</td>\n",
       "      <td>202412</td>\n",
       "      <td>Conven</td>\n",
       "      <td>CFS-NONRB-MICRO</td>\n",
       "      <td>CA</td>\n",
       "      <td>UNDEFINED</td>\n",
       "      <td>8.074488e+08</td>\n",
       "    </tr>\n",
       "    <tr>\n",
       "      <th>4</th>\n",
       "      <td>20241206</td>\n",
       "      <td>202412</td>\n",
       "      <td>Conven</td>\n",
       "      <td>CFS-NONRB-MICRO</td>\n",
       "      <td>SA</td>\n",
       "      <td>UNDEFINED</td>\n",
       "      <td>3.837533e+09</td>\n",
       "    </tr>\n",
       "    <tr>\n",
       "      <th>5</th>\n",
       "      <td>20241206</td>\n",
       "      <td>202412</td>\n",
       "      <td>Conven</td>\n",
       "      <td>CFS-NONRB-MICRO</td>\n",
       "      <td>TD</td>\n",
       "      <td>UNDEFINED</td>\n",
       "      <td>1.277719e+09</td>\n",
       "    </tr>\n",
       "    <tr>\n",
       "      <th>6</th>\n",
       "      <td>20241206</td>\n",
       "      <td>202412</td>\n",
       "      <td>Conven</td>\n",
       "      <td>CFS-NONRB-RSME</td>\n",
       "      <td>CA</td>\n",
       "      <td>UNDEFINED</td>\n",
       "      <td>8.471450e+12</td>\n",
       "    </tr>\n",
       "    <tr>\n",
       "      <th>7</th>\n",
       "      <td>20241206</td>\n",
       "      <td>202412</td>\n",
       "      <td>Conven</td>\n",
       "      <td>CFS-NONRB-RSME</td>\n",
       "      <td>SA</td>\n",
       "      <td>UNDEFINED</td>\n",
       "      <td>1.668689e+11</td>\n",
       "    </tr>\n",
       "    <tr>\n",
       "      <th>8</th>\n",
       "      <td>20241206</td>\n",
       "      <td>202412</td>\n",
       "      <td>Conven</td>\n",
       "      <td>CFS-NONRB-RSME</td>\n",
       "      <td>TD</td>\n",
       "      <td>UNDEFINED</td>\n",
       "      <td>4.524188e+12</td>\n",
       "    </tr>\n",
       "    <tr>\n",
       "      <th>9</th>\n",
       "      <td>20241206</td>\n",
       "      <td>202412</td>\n",
       "      <td>Conven</td>\n",
       "      <td>CFS-NONRB-SME+</td>\n",
       "      <td>CA</td>\n",
       "      <td>UNDEFINED</td>\n",
       "      <td>1.518326e+12</td>\n",
       "    </tr>\n",
       "    <tr>\n",
       "      <th>10</th>\n",
       "      <td>20241206</td>\n",
       "      <td>202412</td>\n",
       "      <td>Conven</td>\n",
       "      <td>CFS-NONRB-SME+</td>\n",
       "      <td>SA</td>\n",
       "      <td>UNDEFINED</td>\n",
       "      <td>1.448301e+10</td>\n",
       "    </tr>\n",
       "    <tr>\n",
       "      <th>11</th>\n",
       "      <td>20241206</td>\n",
       "      <td>202412</td>\n",
       "      <td>Conven</td>\n",
       "      <td>CFS-NONRB-SME+</td>\n",
       "      <td>TD</td>\n",
       "      <td>UNDEFINED</td>\n",
       "      <td>7.379549e+11</td>\n",
       "    </tr>\n",
       "    <tr>\n",
       "      <th>12</th>\n",
       "      <td>20241206</td>\n",
       "      <td>202412</td>\n",
       "      <td>Conven</td>\n",
       "      <td>XXX-GB-CORP</td>\n",
       "      <td>CA</td>\n",
       "      <td>FIG</td>\n",
       "      <td>8.960989e+11</td>\n",
       "    </tr>\n",
       "    <tr>\n",
       "      <th>13</th>\n",
       "      <td>20241206</td>\n",
       "      <td>202412</td>\n",
       "      <td>Conven</td>\n",
       "      <td>XXX-GB-CORP</td>\n",
       "      <td>CA</td>\n",
       "      <td>LLC</td>\n",
       "      <td>4.696356e+12</td>\n",
       "    </tr>\n",
       "    <tr>\n",
       "      <th>14</th>\n",
       "      <td>20241206</td>\n",
       "      <td>202412</td>\n",
       "      <td>Conven</td>\n",
       "      <td>XXX-GB-CORP</td>\n",
       "      <td>CA</td>\n",
       "      <td>SOE</td>\n",
       "      <td>3.864563e+07</td>\n",
       "    </tr>\n",
       "    <tr>\n",
       "      <th>15</th>\n",
       "      <td>20241206</td>\n",
       "      <td>202412</td>\n",
       "      <td>Conven</td>\n",
       "      <td>XXX-GB-CORP</td>\n",
       "      <td>CA</td>\n",
       "      <td>UNDEFINED</td>\n",
       "      <td>6.066212e+12</td>\n",
       "    </tr>\n",
       "    <tr>\n",
       "      <th>16</th>\n",
       "      <td>20241206</td>\n",
       "      <td>202412</td>\n",
       "      <td>Conven</td>\n",
       "      <td>XXX-GB-CORP</td>\n",
       "      <td>SA</td>\n",
       "      <td>FIG</td>\n",
       "      <td>0.000000e+00</td>\n",
       "    </tr>\n",
       "    <tr>\n",
       "      <th>17</th>\n",
       "      <td>20241206</td>\n",
       "      <td>202412</td>\n",
       "      <td>Conven</td>\n",
       "      <td>XXX-GB-CORP</td>\n",
       "      <td>SA</td>\n",
       "      <td>LLC</td>\n",
       "      <td>1.696791e+09</td>\n",
       "    </tr>\n",
       "    <tr>\n",
       "      <th>18</th>\n",
       "      <td>20241206</td>\n",
       "      <td>202412</td>\n",
       "      <td>Conven</td>\n",
       "      <td>XXX-GB-CORP</td>\n",
       "      <td>SA</td>\n",
       "      <td>UNDEFINED</td>\n",
       "      <td>1.467323e+08</td>\n",
       "    </tr>\n",
       "    <tr>\n",
       "      <th>19</th>\n",
       "      <td>20241206</td>\n",
       "      <td>202412</td>\n",
       "      <td>Conven</td>\n",
       "      <td>XXX-GB-CORP</td>\n",
       "      <td>TD</td>\n",
       "      <td>FIG</td>\n",
       "      <td>6.120692e+11</td>\n",
       "    </tr>\n",
       "    <tr>\n",
       "      <th>20</th>\n",
       "      <td>20241206</td>\n",
       "      <td>202412</td>\n",
       "      <td>Conven</td>\n",
       "      <td>XXX-GB-CORP</td>\n",
       "      <td>TD</td>\n",
       "      <td>LLC</td>\n",
       "      <td>6.651133e+12</td>\n",
       "    </tr>\n",
       "    <tr>\n",
       "      <th>21</th>\n",
       "      <td>20241206</td>\n",
       "      <td>202412</td>\n",
       "      <td>Conven</td>\n",
       "      <td>XXX-GB-CORP</td>\n",
       "      <td>TD</td>\n",
       "      <td>UNDEFINED</td>\n",
       "      <td>7.774324e+12</td>\n",
       "    </tr>\n",
       "    <tr>\n",
       "      <th>22</th>\n",
       "      <td>20241206</td>\n",
       "      <td>202412</td>\n",
       "      <td>Sharia</td>\n",
       "      <td>CFS-NONRB-BB</td>\n",
       "      <td>CA</td>\n",
       "      <td>UNDEFINED</td>\n",
       "      <td>3.580386e+12</td>\n",
       "    </tr>\n",
       "    <tr>\n",
       "      <th>23</th>\n",
       "      <td>20241206</td>\n",
       "      <td>202412</td>\n",
       "      <td>Sharia</td>\n",
       "      <td>CFS-NONRB-BB</td>\n",
       "      <td>SA</td>\n",
       "      <td>UNDEFINED</td>\n",
       "      <td>3.925433e+09</td>\n",
       "    </tr>\n",
       "    <tr>\n",
       "      <th>24</th>\n",
       "      <td>20241206</td>\n",
       "      <td>202412</td>\n",
       "      <td>Sharia</td>\n",
       "      <td>CFS-NONRB-BB</td>\n",
       "      <td>TD</td>\n",
       "      <td>UNDEFINED</td>\n",
       "      <td>2.763480e+12</td>\n",
       "    </tr>\n",
       "    <tr>\n",
       "      <th>25</th>\n",
       "      <td>20241206</td>\n",
       "      <td>202412</td>\n",
       "      <td>Sharia</td>\n",
       "      <td>CFS-NONRB-MICRO</td>\n",
       "      <td>CA</td>\n",
       "      <td>UNDEFINED</td>\n",
       "      <td>4.881134e+07</td>\n",
       "    </tr>\n",
       "    <tr>\n",
       "      <th>26</th>\n",
       "      <td>20241206</td>\n",
       "      <td>202412</td>\n",
       "      <td>Sharia</td>\n",
       "      <td>CFS-NONRB-MICRO</td>\n",
       "      <td>SA</td>\n",
       "      <td>UNDEFINED</td>\n",
       "      <td>3.472754e+09</td>\n",
       "    </tr>\n",
       "    <tr>\n",
       "      <th>27</th>\n",
       "      <td>20241206</td>\n",
       "      <td>202412</td>\n",
       "      <td>Sharia</td>\n",
       "      <td>CFS-NONRB-MICRO</td>\n",
       "      <td>TD</td>\n",
       "      <td>UNDEFINED</td>\n",
       "      <td>3.573300e+08</td>\n",
       "    </tr>\n",
       "    <tr>\n",
       "      <th>28</th>\n",
       "      <td>20241206</td>\n",
       "      <td>202412</td>\n",
       "      <td>Sharia</td>\n",
       "      <td>CFS-NONRB-RSME</td>\n",
       "      <td>CA</td>\n",
       "      <td>UNDEFINED</td>\n",
       "      <td>2.380259e+12</td>\n",
       "    </tr>\n",
       "    <tr>\n",
       "      <th>29</th>\n",
       "      <td>20241206</td>\n",
       "      <td>202412</td>\n",
       "      <td>Sharia</td>\n",
       "      <td>CFS-NONRB-RSME</td>\n",
       "      <td>SA</td>\n",
       "      <td>UNDEFINED</td>\n",
       "      <td>2.083421e+11</td>\n",
       "    </tr>\n",
       "    <tr>\n",
       "      <th>30</th>\n",
       "      <td>20241206</td>\n",
       "      <td>202412</td>\n",
       "      <td>Sharia</td>\n",
       "      <td>CFS-NONRB-RSME</td>\n",
       "      <td>TD</td>\n",
       "      <td>UNDEFINED</td>\n",
       "      <td>4.582816e+12</td>\n",
       "    </tr>\n",
       "    <tr>\n",
       "      <th>31</th>\n",
       "      <td>20241206</td>\n",
       "      <td>202412</td>\n",
       "      <td>Sharia</td>\n",
       "      <td>CFS-NONRB-SME+</td>\n",
       "      <td>CA</td>\n",
       "      <td>UNDEFINED</td>\n",
       "      <td>7.973935e+11</td>\n",
       "    </tr>\n",
       "    <tr>\n",
       "      <th>32</th>\n",
       "      <td>20241206</td>\n",
       "      <td>202412</td>\n",
       "      <td>Sharia</td>\n",
       "      <td>CFS-NONRB-SME+</td>\n",
       "      <td>SA</td>\n",
       "      <td>UNDEFINED</td>\n",
       "      <td>1.004665e+10</td>\n",
       "    </tr>\n",
       "    <tr>\n",
       "      <th>33</th>\n",
       "      <td>20241206</td>\n",
       "      <td>202412</td>\n",
       "      <td>Sharia</td>\n",
       "      <td>CFS-NONRB-SME+</td>\n",
       "      <td>TD</td>\n",
       "      <td>UNDEFINED</td>\n",
       "      <td>1.301724e+12</td>\n",
       "    </tr>\n",
       "    <tr>\n",
       "      <th>34</th>\n",
       "      <td>20241206</td>\n",
       "      <td>202412</td>\n",
       "      <td>Sharia</td>\n",
       "      <td>XXX-GB-CORP</td>\n",
       "      <td>CA</td>\n",
       "      <td>FIG</td>\n",
       "      <td>1.546408e+11</td>\n",
       "    </tr>\n",
       "    <tr>\n",
       "      <th>35</th>\n",
       "      <td>20241206</td>\n",
       "      <td>202412</td>\n",
       "      <td>Sharia</td>\n",
       "      <td>XXX-GB-CORP</td>\n",
       "      <td>CA</td>\n",
       "      <td>LLC</td>\n",
       "      <td>2.098734e+11</td>\n",
       "    </tr>\n",
       "    <tr>\n",
       "      <th>36</th>\n",
       "      <td>20241206</td>\n",
       "      <td>202412</td>\n",
       "      <td>Sharia</td>\n",
       "      <td>XXX-GB-CORP</td>\n",
       "      <td>CA</td>\n",
       "      <td>SOE</td>\n",
       "      <td>1.604153e+05</td>\n",
       "    </tr>\n",
       "    <tr>\n",
       "      <th>37</th>\n",
       "      <td>20241206</td>\n",
       "      <td>202412</td>\n",
       "      <td>Sharia</td>\n",
       "      <td>XXX-GB-CORP</td>\n",
       "      <td>CA</td>\n",
       "      <td>UNDEFINED</td>\n",
       "      <td>8.083603e+11</td>\n",
       "    </tr>\n",
       "    <tr>\n",
       "      <th>38</th>\n",
       "      <td>20241206</td>\n",
       "      <td>202412</td>\n",
       "      <td>Sharia</td>\n",
       "      <td>XXX-GB-CORP</td>\n",
       "      <td>SA</td>\n",
       "      <td>UNDEFINED</td>\n",
       "      <td>0.000000e+00</td>\n",
       "    </tr>\n",
       "    <tr>\n",
       "      <th>39</th>\n",
       "      <td>20241206</td>\n",
       "      <td>202412</td>\n",
       "      <td>Sharia</td>\n",
       "      <td>XXX-GB-CORP</td>\n",
       "      <td>TD</td>\n",
       "      <td>FIG</td>\n",
       "      <td>3.000000e+10</td>\n",
       "    </tr>\n",
       "    <tr>\n",
       "      <th>40</th>\n",
       "      <td>20241206</td>\n",
       "      <td>202412</td>\n",
       "      <td>Sharia</td>\n",
       "      <td>XXX-GB-CORP</td>\n",
       "      <td>TD</td>\n",
       "      <td>LLC</td>\n",
       "      <td>7.839850e+11</td>\n",
       "    </tr>\n",
       "    <tr>\n",
       "      <th>41</th>\n",
       "      <td>20241206</td>\n",
       "      <td>202412</td>\n",
       "      <td>Sharia</td>\n",
       "      <td>XXX-GB-CORP</td>\n",
       "      <td>TD</td>\n",
       "      <td>UNDEFINED</td>\n",
       "      <td>2.091663e+12</td>\n",
       "    </tr>\n",
       "  </tbody>\n",
       "</table>\n",
       "</div>"
      ],
      "text/plain": [
       "     BASE_DT BASE_YM    FLAG          SEGMENT PROD_TYPE   DIVISION  \\\n",
       "0   20241206  202412  Conven     CFS-NONRB-BB        CA  UNDEFINED   \n",
       "1   20241206  202412  Conven     CFS-NONRB-BB        SA  UNDEFINED   \n",
       "2   20241206  202412  Conven     CFS-NONRB-BB        TD  UNDEFINED   \n",
       "3   20241206  202412  Conven  CFS-NONRB-MICRO        CA  UNDEFINED   \n",
       "4   20241206  202412  Conven  CFS-NONRB-MICRO        SA  UNDEFINED   \n",
       "5   20241206  202412  Conven  CFS-NONRB-MICRO        TD  UNDEFINED   \n",
       "6   20241206  202412  Conven   CFS-NONRB-RSME        CA  UNDEFINED   \n",
       "7   20241206  202412  Conven   CFS-NONRB-RSME        SA  UNDEFINED   \n",
       "8   20241206  202412  Conven   CFS-NONRB-RSME        TD  UNDEFINED   \n",
       "9   20241206  202412  Conven   CFS-NONRB-SME+        CA  UNDEFINED   \n",
       "10  20241206  202412  Conven   CFS-NONRB-SME+        SA  UNDEFINED   \n",
       "11  20241206  202412  Conven   CFS-NONRB-SME+        TD  UNDEFINED   \n",
       "12  20241206  202412  Conven      XXX-GB-CORP        CA        FIG   \n",
       "13  20241206  202412  Conven      XXX-GB-CORP        CA        LLC   \n",
       "14  20241206  202412  Conven      XXX-GB-CORP        CA        SOE   \n",
       "15  20241206  202412  Conven      XXX-GB-CORP        CA  UNDEFINED   \n",
       "16  20241206  202412  Conven      XXX-GB-CORP        SA        FIG   \n",
       "17  20241206  202412  Conven      XXX-GB-CORP        SA        LLC   \n",
       "18  20241206  202412  Conven      XXX-GB-CORP        SA  UNDEFINED   \n",
       "19  20241206  202412  Conven      XXX-GB-CORP        TD        FIG   \n",
       "20  20241206  202412  Conven      XXX-GB-CORP        TD        LLC   \n",
       "21  20241206  202412  Conven      XXX-GB-CORP        TD  UNDEFINED   \n",
       "22  20241206  202412  Sharia     CFS-NONRB-BB        CA  UNDEFINED   \n",
       "23  20241206  202412  Sharia     CFS-NONRB-BB        SA  UNDEFINED   \n",
       "24  20241206  202412  Sharia     CFS-NONRB-BB        TD  UNDEFINED   \n",
       "25  20241206  202412  Sharia  CFS-NONRB-MICRO        CA  UNDEFINED   \n",
       "26  20241206  202412  Sharia  CFS-NONRB-MICRO        SA  UNDEFINED   \n",
       "27  20241206  202412  Sharia  CFS-NONRB-MICRO        TD  UNDEFINED   \n",
       "28  20241206  202412  Sharia   CFS-NONRB-RSME        CA  UNDEFINED   \n",
       "29  20241206  202412  Sharia   CFS-NONRB-RSME        SA  UNDEFINED   \n",
       "30  20241206  202412  Sharia   CFS-NONRB-RSME        TD  UNDEFINED   \n",
       "31  20241206  202412  Sharia   CFS-NONRB-SME+        CA  UNDEFINED   \n",
       "32  20241206  202412  Sharia   CFS-NONRB-SME+        SA  UNDEFINED   \n",
       "33  20241206  202412  Sharia   CFS-NONRB-SME+        TD  UNDEFINED   \n",
       "34  20241206  202412  Sharia      XXX-GB-CORP        CA        FIG   \n",
       "35  20241206  202412  Sharia      XXX-GB-CORP        CA        LLC   \n",
       "36  20241206  202412  Sharia      XXX-GB-CORP        CA        SOE   \n",
       "37  20241206  202412  Sharia      XXX-GB-CORP        CA  UNDEFINED   \n",
       "38  20241206  202412  Sharia      XXX-GB-CORP        SA  UNDEFINED   \n",
       "39  20241206  202412  Sharia      XXX-GB-CORP        TD        FIG   \n",
       "40  20241206  202412  Sharia      XXX-GB-CORP        TD        LLC   \n",
       "41  20241206  202412  Sharia      XXX-GB-CORP        TD  UNDEFINED   \n",
       "\n",
       "    BASE_AMT_FIX  \n",
       "0   7.228744e+12  \n",
       "1   1.855442e+10  \n",
       "2   5.523886e+12  \n",
       "3   8.074488e+08  \n",
       "4   3.837533e+09  \n",
       "5   1.277719e+09  \n",
       "6   8.471450e+12  \n",
       "7   1.668689e+11  \n",
       "8   4.524188e+12  \n",
       "9   1.518326e+12  \n",
       "10  1.448301e+10  \n",
       "11  7.379549e+11  \n",
       "12  8.960989e+11  \n",
       "13  4.696356e+12  \n",
       "14  3.864563e+07  \n",
       "15  6.066212e+12  \n",
       "16  0.000000e+00  \n",
       "17  1.696791e+09  \n",
       "18  1.467323e+08  \n",
       "19  6.120692e+11  \n",
       "20  6.651133e+12  \n",
       "21  7.774324e+12  \n",
       "22  3.580386e+12  \n",
       "23  3.925433e+09  \n",
       "24  2.763480e+12  \n",
       "25  4.881134e+07  \n",
       "26  3.472754e+09  \n",
       "27  3.573300e+08  \n",
       "28  2.380259e+12  \n",
       "29  2.083421e+11  \n",
       "30  4.582816e+12  \n",
       "31  7.973935e+11  \n",
       "32  1.004665e+10  \n",
       "33  1.301724e+12  \n",
       "34  1.546408e+11  \n",
       "35  2.098734e+11  \n",
       "36  1.604153e+05  \n",
       "37  8.083603e+11  \n",
       "38  0.000000e+00  \n",
       "39  3.000000e+10  \n",
       "40  7.839850e+11  \n",
       "41  2.091663e+12  "
      ]
     },
     "execution_count": 20,
     "metadata": {},
     "output_type": "execute_result"
    }
   ],
   "source": [
    "MF_Agg"
   ]
  },
  {
   "cell_type": "code",
   "execution_count": 21,
   "metadata": {},
   "outputs": [
    {
     "name": "stdout",
     "output_type": "stream",
     "text": [
      "<class 'pandas.core.frame.DataFrame'>\n",
      "RangeIndex: 42 entries, 0 to 41\n",
      "Data columns (total 7 columns):\n",
      " #   Column        Non-Null Count  Dtype  \n",
      "---  ------        --------------  -----  \n",
      " 0   BASE_DT       42 non-null     int32  \n",
      " 1   BASE_YM       42 non-null     object \n",
      " 2   FLAG          42 non-null     object \n",
      " 3   SEGMENT       42 non-null     object \n",
      " 4   PROD_TYPE     42 non-null     object \n",
      " 5   DIVISION      42 non-null     object \n",
      " 6   BASE_AMT_FIX  42 non-null     float64\n",
      "dtypes: float64(1), int32(1), object(5)\n",
      "memory usage: 2.3+ KB\n"
     ]
    }
   ],
   "source": [
    "MF_Agg.info()"
   ]
  },
  {
   "cell_type": "code",
   "execution_count": 22,
   "metadata": {},
   "outputs": [],
   "source": [
    "MF_Agg['SOURCE'] = 'TBL_BAL_SUMMARY'"
   ]
  },
  {
   "cell_type": "code",
   "execution_count": 23,
   "metadata": {},
   "outputs": [],
   "source": [
    "MF_All = pd.concat([MF,MF_Agg], ignore_index=True)\n",
    "MF_All['BASE_DT'] = MF_All['BASE_DT'].astype(int)\n",
    "MF_All['BASE_YM'] = MF_All['BASE_YM'].astype(int)"
   ]
  },
  {
   "cell_type": "code",
   "execution_count": 24,
   "metadata": {},
   "outputs": [
    {
     "name": "stdout",
     "output_type": "stream",
     "text": [
      "<class 'pandas.core.frame.DataFrame'>\n",
      "RangeIndex: 117506 entries, 0 to 117505\n",
      "Data columns (total 41 columns):\n",
      " #   Column           Non-Null Count   Dtype  \n",
      "---  ------           --------------   -----  \n",
      " 0   BASE_DT          117506 non-null  int32  \n",
      " 1   BASE_YM          117506 non-null  int32  \n",
      " 2   AGREE_ID         117464 non-null  object \n",
      " 3   FLAG             117506 non-null  object \n",
      " 4   ACCT_NO          117464 non-null  object \n",
      " 5   ACCT_BR          117464 non-null  object \n",
      " 6   GCIF_CREATE_BR   117463 non-null  object \n",
      " 7   REGION           117462 non-null  object \n",
      " 8   AREA             117462 non-null  object \n",
      " 9   BRANCH           117462 non-null  object \n",
      " 10  GCIF_NO          117464 non-null  object \n",
      " 11  CIF_NO           117464 non-null  object \n",
      " 12  CUST_TYPE        117464 non-null  object \n",
      " 13  PROD_NM          117464 non-null  object \n",
      " 14  SUB_PROD_NM      117464 non-null  object \n",
      " 15  SEGMENT          117506 non-null  object \n",
      " 16  GCIF_NAME        117464 non-null  object \n",
      " 17  PROD_TYPE        117506 non-null  object \n",
      " 18  CURR_CODE        117464 non-null  object \n",
      " 19  SUB_LOB_CD       117464 non-null  object \n",
      " 20  RATE_DPK         117464 non-null  float64\n",
      " 21  BASE_AMT_FIX     117506 non-null  float64\n",
      " 22  MTD_AVG_AMT_FIX  117464 non-null  float64\n",
      " 23  MTD_INT_EXP      117464 non-null  float64\n",
      " 24  NPK_SALES        110860 non-null  object \n",
      " 25  COLT             1290 non-null    float64\n",
      " 26  COF_MTD          117464 non-null  float64\n",
      " 27  DTD              117351 non-null  float64\n",
      " 28  MTD              116933 non-null  float64\n",
      " 29  YTD              100066 non-null  float64\n",
      " 30  HIGH_COF_FLAG    0 non-null       object \n",
      " 31  SEGMENT_FIX      117464 non-null  object \n",
      " 32  LOB_SORT         117464 non-null  float64\n",
      " 33  CASA_TD          117464 non-null  object \n",
      " 34  DTD_10B          117464 non-null  object \n",
      " 35  MTD_10B          117464 non-null  object \n",
      " 36  DIVISION         117506 non-null  object \n",
      " 37  STATUS           117464 non-null  object \n",
      " 38  SYSTEM_TYPE      117464 non-null  object \n",
      " 39  CTRL3            117464 non-null  object \n",
      " 40  SOURCE           117506 non-null  object \n",
      "dtypes: float64(10), int32(2), object(29)\n",
      "memory usage: 35.9+ MB\n"
     ]
    }
   ],
   "source": [
    "MF_All.info()"
   ]
  },
  {
   "attachments": {},
   "cell_type": "markdown",
   "metadata": {},
   "source": [
    "## 2. RMR"
   ]
  },
  {
   "cell_type": "markdown",
   "metadata": {},
   "source": [
    "DB data source unavailable. Requires manual file update."
   ]
  },
  {
   "cell_type": "code",
   "execution_count": 25,
   "metadata": {},
   "outputs": [],
   "source": [
    "# create RMR container with identical columns to MF\n",
    "RMRContainer = MF.iloc[0:0]"
   ]
  },
  {
   "cell_type": "code",
   "execution_count": 26,
   "metadata": {},
   "outputs": [],
   "source": [
    "# Tag RMR data\n",
    "df_RMR['SOURCE'] = 'RMR'"
   ]
  },
  {
   "cell_type": "code",
   "execution_count": 27,
   "metadata": {},
   "outputs": [
    {
     "name": "stdout",
     "output_type": "stream",
     "text": [
      "<class 'pandas.core.frame.DataFrame'>\n",
      "RangeIndex: 30 entries, 0 to 29\n",
      "Data columns (total 6 columns):\n",
      " #   Column        Non-Null Count  Dtype  \n",
      "---  ------        --------------  -----  \n",
      " 0   BASE_YM       30 non-null     int64  \n",
      " 1   FLAG          30 non-null     object \n",
      " 2   SEGMENT       30 non-null     object \n",
      " 3   PROD_TYPE     30 non-null     object \n",
      " 4   BASE_AMT_FIX  30 non-null     float64\n",
      " 5   SOURCE        30 non-null     object \n",
      "dtypes: float64(1), int64(1), object(4)\n",
      "memory usage: 1.5+ KB\n"
     ]
    }
   ],
   "source": [
    "df_RMR.info()"
   ]
  },
  {
   "cell_type": "code",
   "execution_count": 28,
   "metadata": {},
   "outputs": [],
   "source": [
    "# Create Lob Mapping\n",
    "lobMap = pd.DataFrame({'SEGMENT':[\"CFS-NONRB-MICRO\", \"CFS-NONRB-RSME\", \"CFS-NONRB-SME+\", \"CFS-NONRB-BB\", \"XXX-GB-CORP\"],\n",
    "                       'SEGMENT_FIX':[\"CFS-SMER & MICRO\",\"CFS-SMER & MICRO\", \"CFS-SME+\", \"CFS-BB\", \"GB-CORP\"]})"
   ]
  },
  {
   "cell_type": "code",
   "execution_count": 29,
   "metadata": {},
   "outputs": [],
   "source": [
    "# merge LoB Mapping\n",
    "df_RMR = df_RMR.merge(lobMap, on='SEGMENT', how='left')"
   ]
  },
  {
   "cell_type": "code",
   "execution_count": 30,
   "metadata": {},
   "outputs": [],
   "source": [
    "# concat data to empty df\n",
    "df_RMR = pd.concat([RMRContainer, df_RMR])"
   ]
  },
  {
   "cell_type": "code",
   "execution_count": 31,
   "metadata": {},
   "outputs": [
    {
     "name": "stdout",
     "output_type": "stream",
     "text": [
      "<class 'pandas.core.frame.DataFrame'>\n",
      "RangeIndex: 30 entries, 0 to 29\n",
      "Data columns (total 41 columns):\n",
      " #   Column           Non-Null Count  Dtype  \n",
      "---  ------           --------------  -----  \n",
      " 0   BASE_DT          0 non-null      float64\n",
      " 1   BASE_YM          30 non-null     object \n",
      " 2   AGREE_ID         0 non-null      object \n",
      " 3   FLAG             30 non-null     object \n",
      " 4   ACCT_NO          0 non-null      object \n",
      " 5   ACCT_BR          0 non-null      object \n",
      " 6   GCIF_CREATE_BR   0 non-null      object \n",
      " 7   REGION           0 non-null      object \n",
      " 8   AREA             0 non-null      object \n",
      " 9   BRANCH           0 non-null      object \n",
      " 10  GCIF_NO          0 non-null      object \n",
      " 11  CIF_NO           0 non-null      object \n",
      " 12  CUST_TYPE        0 non-null      object \n",
      " 13  PROD_NM          0 non-null      object \n",
      " 14  SUB_PROD_NM      0 non-null      object \n",
      " 15  SEGMENT          30 non-null     object \n",
      " 16  GCIF_NAME        0 non-null      object \n",
      " 17  PROD_TYPE        30 non-null     object \n",
      " 18  CURR_CODE        0 non-null      object \n",
      " 19  SUB_LOB_CD       0 non-null      object \n",
      " 20  RATE_DPK         0 non-null      float64\n",
      " 21  BASE_AMT_FIX     30 non-null     float64\n",
      " 22  MTD_AVG_AMT_FIX  0 non-null      float64\n",
      " 23  MTD_INT_EXP      0 non-null      float64\n",
      " 24  NPK_SALES        0 non-null      object \n",
      " 25  COLT             0 non-null      float64\n",
      " 26  COF_MTD          0 non-null      float64\n",
      " 27  DTD              0 non-null      float64\n",
      " 28  MTD              0 non-null      float64\n",
      " 29  YTD              0 non-null      float64\n",
      " 30  HIGH_COF_FLAG    0 non-null      object \n",
      " 31  SEGMENT_FIX      30 non-null     object \n",
      " 32  LOB_SORT         0 non-null      float64\n",
      " 33  CASA_TD          0 non-null      object \n",
      " 34  DTD_10B          0 non-null      object \n",
      " 35  MTD_10B          0 non-null      object \n",
      " 36  DIVISION         0 non-null      object \n",
      " 37  STATUS           0 non-null      object \n",
      " 38  SYSTEM_TYPE      0 non-null      object \n",
      " 39  CTRL3            0 non-null      object \n",
      " 40  SOURCE           30 non-null     object \n",
      "dtypes: float64(11), object(30)\n",
      "memory usage: 9.7+ KB\n"
     ]
    }
   ],
   "source": [
    "df_RMR.info()"
   ]
  },
  {
   "attachments": {},
   "cell_type": "markdown",
   "metadata": {},
   "source": [
    "## 3. Target"
   ]
  },
  {
   "cell_type": "code",
   "execution_count": 32,
   "metadata": {},
   "outputs": [],
   "source": [
    "# assign container\n",
    "TargetContainer = RMRContainer"
   ]
  },
  {
   "cell_type": "code",
   "execution_count": 33,
   "metadata": {},
   "outputs": [],
   "source": [
    "# tag source data\n",
    "df_Target['SOURCE'] = 'TARGET'"
   ]
  },
  {
   "cell_type": "code",
   "execution_count": 34,
   "metadata": {},
   "outputs": [
    {
     "name": "stdout",
     "output_type": "stream",
     "text": [
      "<class 'pandas.core.frame.DataFrame'>\n",
      "RangeIndex: 30 entries, 0 to 29\n",
      "Data columns (total 6 columns):\n",
      " #   Column        Non-Null Count  Dtype  \n",
      "---  ------        --------------  -----  \n",
      " 0   BASE_YM       30 non-null     int64  \n",
      " 1   FLAG          30 non-null     object \n",
      " 2   SEGMENT       30 non-null     object \n",
      " 3   PROD_TYPE     30 non-null     object \n",
      " 4   BASE_AMT_FIX  30 non-null     float64\n",
      " 5   SOURCE        30 non-null     object \n",
      "dtypes: float64(1), int64(1), object(4)\n",
      "memory usage: 1.5+ KB\n"
     ]
    }
   ],
   "source": [
    "df_Target.info()"
   ]
  },
  {
   "cell_type": "code",
   "execution_count": 35,
   "metadata": {},
   "outputs": [],
   "source": [
    "# merge to LoB Map\n",
    "df_Target = df_Target.merge(lobMap, on='SEGMENT', how='left')"
   ]
  },
  {
   "cell_type": "code",
   "execution_count": 36,
   "metadata": {},
   "outputs": [],
   "source": [
    "# concat data to empty df\n",
    "df_Target = pd.concat([TargetContainer, df_Target])"
   ]
  },
  {
   "cell_type": "code",
   "execution_count": 37,
   "metadata": {},
   "outputs": [
    {
     "name": "stdout",
     "output_type": "stream",
     "text": [
      "<class 'pandas.core.frame.DataFrame'>\n",
      "RangeIndex: 30 entries, 0 to 29\n",
      "Data columns (total 41 columns):\n",
      " #   Column           Non-Null Count  Dtype  \n",
      "---  ------           --------------  -----  \n",
      " 0   BASE_DT          0 non-null      float64\n",
      " 1   BASE_YM          30 non-null     object \n",
      " 2   AGREE_ID         0 non-null      object \n",
      " 3   FLAG             30 non-null     object \n",
      " 4   ACCT_NO          0 non-null      object \n",
      " 5   ACCT_BR          0 non-null      object \n",
      " 6   GCIF_CREATE_BR   0 non-null      object \n",
      " 7   REGION           0 non-null      object \n",
      " 8   AREA             0 non-null      object \n",
      " 9   BRANCH           0 non-null      object \n",
      " 10  GCIF_NO          0 non-null      object \n",
      " 11  CIF_NO           0 non-null      object \n",
      " 12  CUST_TYPE        0 non-null      object \n",
      " 13  PROD_NM          0 non-null      object \n",
      " 14  SUB_PROD_NM      0 non-null      object \n",
      " 15  SEGMENT          30 non-null     object \n",
      " 16  GCIF_NAME        0 non-null      object \n",
      " 17  PROD_TYPE        30 non-null     object \n",
      " 18  CURR_CODE        0 non-null      object \n",
      " 19  SUB_LOB_CD       0 non-null      object \n",
      " 20  RATE_DPK         0 non-null      float64\n",
      " 21  BASE_AMT_FIX     30 non-null     float64\n",
      " 22  MTD_AVG_AMT_FIX  0 non-null      float64\n",
      " 23  MTD_INT_EXP      0 non-null      float64\n",
      " 24  NPK_SALES        0 non-null      object \n",
      " 25  COLT             0 non-null      float64\n",
      " 26  COF_MTD          0 non-null      float64\n",
      " 27  DTD              0 non-null      float64\n",
      " 28  MTD              0 non-null      float64\n",
      " 29  YTD              0 non-null      float64\n",
      " 30  HIGH_COF_FLAG    0 non-null      object \n",
      " 31  SEGMENT_FIX      30 non-null     object \n",
      " 32  LOB_SORT         0 non-null      float64\n",
      " 33  CASA_TD          0 non-null      object \n",
      " 34  DTD_10B          0 non-null      object \n",
      " 35  MTD_10B          0 non-null      object \n",
      " 36  DIVISION         0 non-null      object \n",
      " 37  STATUS           0 non-null      object \n",
      " 38  SYSTEM_TYPE      0 non-null      object \n",
      " 39  CTRL3            0 non-null      object \n",
      " 40  SOURCE           30 non-null     object \n",
      "dtypes: float64(11), object(30)\n",
      "memory usage: 9.7+ KB\n"
     ]
    }
   ],
   "source": [
    "df_Target.info()"
   ]
  },
  {
   "cell_type": "markdown",
   "metadata": {},
   "source": [
    "# C. MASKING"
   ]
  },
  {
   "cell_type": "code",
   "execution_count": 38,
   "metadata": {},
   "outputs": [],
   "source": [
    "# container for masked acct and agr\n",
    "acct_fix = []\n",
    "agr_fix = []\n",
    "\n",
    "# mask acct and agr\n",
    "for i in list(MF_All.index):\n",
    "    agree = str(MF_All.loc[i,'AGREE_ID'])\n",
    "    a = agree[:-7] + \"XXXX\" + agree[-3:]\n",
    "    acct = str(MF_All.loc[i, \"ACCT_NO\"])\n",
    "    b = acct[:-7] + \"XXXX\" + acct[-3:]\n",
    "    agr_fix.append(a)\n",
    "    acct_fix.append(b)\n",
    "\n",
    "# replace original field with masked values\n",
    "MF_All['AGREE_ID'] = agr_fix\n",
    "MF_All['ACCT_NO'] = acct_fix"
   ]
  },
  {
   "cell_type": "code",
   "execution_count": 39,
   "metadata": {},
   "outputs": [],
   "source": [
    "# name masking function\n",
    "def masking_name(param):\n",
    "    if param not in [\"nan\",\"NaN\"]:\n",
    "        return  ' '.join([item.replace(item[1:-1], \"*\"*len(item[1:-1])) if len(item)>2 and item[-1]!=\",\" and item[-1]!=\".\" else (item.replace(item[1:-2], \"*\"*len(item[1:-2])) if len(item)>2 and (item[-1]==\",\") else (item if len(item)>2 and (item[-1]==\".\") else item.replace(item[1:-2], \"*\"*len(item[1:-2])))) for item in param.split()])\n",
    "    else:\n",
    "        return param"
   ]
  },
  {
   "cell_type": "code",
   "execution_count": 40,
   "metadata": {},
   "outputs": [],
   "source": [
    "# mask names\n",
    "MF_All[\"GCIF_NAME\"] = MF_All[\"GCIF_NAME\"].astype(str)\n",
    "MF_All[\"GCIF_NAME\"] = MF_All[\"GCIF_NAME\"].apply(masking_name) "
   ]
  },
  {
   "cell_type": "code",
   "execution_count": 41,
   "metadata": {},
   "outputs": [
    {
     "data": {
      "text/plain": [
       "Index(['BASE_DT', 'BASE_YM', 'AGREE_ID', 'FLAG', 'ACCT_NO', 'ACCT_BR',\n",
       "       'GCIF_CREATE_BR', 'REGION', 'AREA', 'BRANCH', 'GCIF_NO', 'CIF_NO',\n",
       "       'CUST_TYPE', 'PROD_NM', 'SUB_PROD_NM', 'SEGMENT', 'GCIF_NAME',\n",
       "       'PROD_TYPE', 'CURR_CODE', 'SUB_LOB_CD', 'RATE_DPK', 'BASE_AMT_FIX',\n",
       "       'MTD_AVG_AMT_FIX', 'MTD_INT_EXP', 'NPK_SALES', 'COLT', 'COF_MTD', 'DTD',\n",
       "       'MTD', 'YTD', 'HIGH_COF_FLAG', 'SEGMENT_FIX', 'LOB_SORT', 'CASA_TD',\n",
       "       'DTD_10B', 'MTD_10B', 'DIVISION', 'STATUS', 'SYSTEM_TYPE', 'CTRL3',\n",
       "       'SOURCE'],\n",
       "      dtype='object')"
      ]
     },
     "execution_count": 41,
     "metadata": {},
     "output_type": "execute_result"
    }
   ],
   "source": [
    "MF_All.columns"
   ]
  },
  {
   "cell_type": "code",
   "execution_count": 42,
   "metadata": {},
   "outputs": [],
   "source": [
    "# Assign to MF as currfin with selected columns\n",
    "currFin = MF_All[['BASE_DT', 'AGREE_ID', 'FLAG', 'ACCT_NO','ACCT_BR',\n",
    "                  'GCIF_CREATE_BR', 'REGION', 'AREA', 'BRANCH',\n",
    "                  'GCIF_NO', 'CIF_NO', 'CUST_TYPE', 'PROD_NM','SUB_PROD_NM', 'SEGMENT',\n",
    "                  'GCIF_NAME', 'PROD_TYPE', 'CURR_CODE', 'SUB_LOB_CD','NPK_SALES', 'COLT',\n",
    "                  'RATE_DPK','BASE_AMT_FIX','MTD_AVG_AMT_FIX', 'MTD_INT_EXP', \n",
    "                  'DTD', 'MTD', 'YTD', 'DIVISION', 'SOURCE',\n",
    "                  'SEGMENT_FIX', 'COF_MTD', 'MTD_INT_EXP','HIGH_COF_FLAG', \n",
    "                  'LOB_SORT','CASA_TD','DTD_10B','MTD_10B']]"
   ]
  },
  {
   "cell_type": "code",
   "execution_count": 43,
   "metadata": {},
   "outputs": [
    {
     "name": "stderr",
     "output_type": "stream",
     "text": [
      "C:\\Users\\MR38804\\AppData\\Local\\Temp\\ipykernel_16640\\1603293702.py:2: SettingWithCopyWarning: \n",
      "A value is trying to be set on a copy of a slice from a DataFrame\n",
      "\n",
      "See the caveats in the documentation: https://pandas.pydata.org/pandas-docs/stable/user_guide/indexing.html#returning-a-view-versus-a-copy\n",
      "  currFin.drop_duplicates(inplace=True)\n"
     ]
    }
   ],
   "source": [
    "# remove possible duplicates\n",
    "currFin.drop_duplicates(inplace=True)"
   ]
  },
  {
   "cell_type": "code",
   "execution_count": 44,
   "metadata": {},
   "outputs": [
    {
     "data": {
      "text/html": [
       "<div>\n",
       "<style scoped>\n",
       "    .dataframe tbody tr th:only-of-type {\n",
       "        vertical-align: middle;\n",
       "    }\n",
       "\n",
       "    .dataframe tbody tr th {\n",
       "        vertical-align: top;\n",
       "    }\n",
       "\n",
       "    .dataframe thead th {\n",
       "        text-align: right;\n",
       "    }\n",
       "</style>\n",
       "<table border=\"1\" class=\"dataframe\">\n",
       "  <thead>\n",
       "    <tr style=\"text-align: right;\">\n",
       "      <th></th>\n",
       "      <th>BASE_DT</th>\n",
       "      <th>AGREE_ID</th>\n",
       "      <th>FLAG</th>\n",
       "      <th>ACCT_NO</th>\n",
       "      <th>ACCT_BR</th>\n",
       "      <th>GCIF_CREATE_BR</th>\n",
       "      <th>REGION</th>\n",
       "      <th>AREA</th>\n",
       "      <th>BRANCH</th>\n",
       "      <th>GCIF_NO</th>\n",
       "      <th>CIF_NO</th>\n",
       "      <th>CUST_TYPE</th>\n",
       "      <th>PROD_NM</th>\n",
       "      <th>SUB_PROD_NM</th>\n",
       "      <th>SEGMENT</th>\n",
       "      <th>...</th>\n",
       "      <th>MTD_AVG_AMT_FIX</th>\n",
       "      <th>MTD_INT_EXP</th>\n",
       "      <th>DTD</th>\n",
       "      <th>MTD</th>\n",
       "      <th>YTD</th>\n",
       "      <th>DIVISION</th>\n",
       "      <th>SOURCE</th>\n",
       "      <th>SEGMENT_FIX</th>\n",
       "      <th>COF_MTD</th>\n",
       "      <th>MTD_INT_EXP</th>\n",
       "      <th>HIGH_COF_FLAG</th>\n",
       "      <th>LOB_SORT</th>\n",
       "      <th>CASA_TD</th>\n",
       "      <th>DTD_10B</th>\n",
       "      <th>MTD_10B</th>\n",
       "    </tr>\n",
       "  </thead>\n",
       "  <tbody>\n",
       "    <tr>\n",
       "      <th>0</th>\n",
       "      <td>20241206</td>\n",
       "      <td>ST16IDR1670000116XXXX861</td>\n",
       "      <td>Conven</td>\n",
       "      <td>0000116XXXX861</td>\n",
       "      <td>167</td>\n",
       "      <td>110</td>\n",
       "      <td>JAWA BARAT</td>\n",
       "      <td>JAWA BARAT 4</td>\n",
       "      <td>KCI TASIKMALAYA</td>\n",
       "      <td>G000359935</td>\n",
       "      <td>0006642982</td>\n",
       "      <td>INDV</td>\n",
       "      <td>Maybank Tabungan Woman One</td>\n",
       "      <td>Maybank Tabungan Woman One</td>\n",
       "      <td>CFS-NONRB-RSME</td>\n",
       "      <td>...</td>\n",
       "      <td>38823120.31</td>\n",
       "      <td>0.0</td>\n",
       "      <td>0.0</td>\n",
       "      <td>0.0</td>\n",
       "      <td>7503036.00</td>\n",
       "      <td>UNDEFINED</td>\n",
       "      <td>TBL_BAL</td>\n",
       "      <td>CFS-SMER &amp; MICRO</td>\n",
       "      <td>0.0</td>\n",
       "      <td>0.0</td>\n",
       "      <td>None</td>\n",
       "      <td>1.0</td>\n",
       "      <td>CASA</td>\n",
       "      <td>NO</td>\n",
       "      <td>NO</td>\n",
       "    </tr>\n",
       "    <tr>\n",
       "      <th>1</th>\n",
       "      <td>20241206</td>\n",
       "      <td>ST16IDR4013000004XXXX136</td>\n",
       "      <td>Conven</td>\n",
       "      <td>3000004XXXX136</td>\n",
       "      <td>401</td>\n",
       "      <td>016</td>\n",
       "      <td>JAKARTA 3</td>\n",
       "      <td>BEKASI</td>\n",
       "      <td>KCP HARAPAN INDAH</td>\n",
       "      <td>G000456624</td>\n",
       "      <td>0000044764</td>\n",
       "      <td>NON INDV</td>\n",
       "      <td>Maybank Deposito</td>\n",
       "      <td>Maybank Deposito</td>\n",
       "      <td>CFS-NONRB-BB</td>\n",
       "      <td>...</td>\n",
       "      <td>59310883.50</td>\n",
       "      <td>0.0</td>\n",
       "      <td>0.0</td>\n",
       "      <td>0.0</td>\n",
       "      <td>0.00</td>\n",
       "      <td>UNDEFINED</td>\n",
       "      <td>TBL_BAL</td>\n",
       "      <td>CFS-BB</td>\n",
       "      <td>0.0</td>\n",
       "      <td>0.0</td>\n",
       "      <td>None</td>\n",
       "      <td>3.0</td>\n",
       "      <td>TD</td>\n",
       "      <td>NO</td>\n",
       "      <td>NO</td>\n",
       "    </tr>\n",
       "    <tr>\n",
       "      <th>2</th>\n",
       "      <td>20241206</td>\n",
       "      <td>IM16IDR016201XXXX474</td>\n",
       "      <td>Conven</td>\n",
       "      <td>201XXXX474</td>\n",
       "      <td>016</td>\n",
       "      <td>016</td>\n",
       "      <td>JAKARTA 2</td>\n",
       "      <td>KELAPA GADING</td>\n",
       "      <td>KCI KELAPA GADING</td>\n",
       "      <td>G000456624</td>\n",
       "      <td>0000044764</td>\n",
       "      <td>NON INDV</td>\n",
       "      <td>Maybank Giro</td>\n",
       "      <td>Maybank Giro</td>\n",
       "      <td>CFS-NONRB-BB</td>\n",
       "      <td>...</td>\n",
       "      <td>58125.00</td>\n",
       "      <td>0.0</td>\n",
       "      <td>0.0</td>\n",
       "      <td>-105000.0</td>\n",
       "      <td>-542062.34</td>\n",
       "      <td>UNDEFINED</td>\n",
       "      <td>TBL_BAL</td>\n",
       "      <td>CFS-BB</td>\n",
       "      <td>0.0</td>\n",
       "      <td>0.0</td>\n",
       "      <td>None</td>\n",
       "      <td>3.0</td>\n",
       "      <td>CASA</td>\n",
       "      <td>NO</td>\n",
       "      <td>NO</td>\n",
       "    </tr>\n",
       "    <tr>\n",
       "      <th>3</th>\n",
       "      <td>20241206</td>\n",
       "      <td>ST16IDR0013002060XXXX766</td>\n",
       "      <td>Conven</td>\n",
       "      <td>3002060XXXX766</td>\n",
       "      <td>001</td>\n",
       "      <td>016</td>\n",
       "      <td>JAKARTA 2</td>\n",
       "      <td>EKAJIWA</td>\n",
       "      <td>KCI EKAJIWA</td>\n",
       "      <td>G000456624</td>\n",
       "      <td>0000044764</td>\n",
       "      <td>NON INDV</td>\n",
       "      <td>Maybank Deposito</td>\n",
       "      <td>Maybank Deposito</td>\n",
       "      <td>CFS-NONRB-BB</td>\n",
       "      <td>...</td>\n",
       "      <td>38369863.00</td>\n",
       "      <td>0.0</td>\n",
       "      <td>0.0</td>\n",
       "      <td>0.0</td>\n",
       "      <td>0.00</td>\n",
       "      <td>UNDEFINED</td>\n",
       "      <td>TBL_BAL</td>\n",
       "      <td>CFS-BB</td>\n",
       "      <td>0.0</td>\n",
       "      <td>0.0</td>\n",
       "      <td>None</td>\n",
       "      <td>3.0</td>\n",
       "      <td>TD</td>\n",
       "      <td>NO</td>\n",
       "      <td>NO</td>\n",
       "    </tr>\n",
       "    <tr>\n",
       "      <th>4</th>\n",
       "      <td>20241206</td>\n",
       "      <td>IM16IDR030203XXXX675</td>\n",
       "      <td>Conven</td>\n",
       "      <td>203XXXX675</td>\n",
       "      <td>121</td>\n",
       "      <td>075</td>\n",
       "      <td>JAKARTA 1</td>\n",
       "      <td>MT HARYONO</td>\n",
       "      <td>KCI MT HARYONO</td>\n",
       "      <td>G000459396</td>\n",
       "      <td>0000136071</td>\n",
       "      <td>NON INDV</td>\n",
       "      <td>Maybank Giro</td>\n",
       "      <td>Maybank Giro</td>\n",
       "      <td>CFS-NONRB-RSME</td>\n",
       "      <td>...</td>\n",
       "      <td>4919376.00</td>\n",
       "      <td>0.0</td>\n",
       "      <td>0.0</td>\n",
       "      <td>-55000.0</td>\n",
       "      <td>-649571.00</td>\n",
       "      <td>UNDEFINED</td>\n",
       "      <td>TBL_BAL</td>\n",
       "      <td>CFS-SMER &amp; MICRO</td>\n",
       "      <td>0.0</td>\n",
       "      <td>0.0</td>\n",
       "      <td>None</td>\n",
       "      <td>1.0</td>\n",
       "      <td>CASA</td>\n",
       "      <td>NO</td>\n",
       "      <td>NO</td>\n",
       "    </tr>\n",
       "  </tbody>\n",
       "</table>\n",
       "<p>5 rows × 38 columns</p>\n",
       "</div>"
      ],
      "text/plain": [
       "    BASE_DT                  AGREE_ID    FLAG         ACCT_NO ACCT_BR  \\\n",
       "0  20241206  ST16IDR1670000116XXXX861  Conven  0000116XXXX861     167   \n",
       "1  20241206  ST16IDR4013000004XXXX136  Conven  3000004XXXX136     401   \n",
       "2  20241206      IM16IDR016201XXXX474  Conven      201XXXX474     016   \n",
       "3  20241206  ST16IDR0013002060XXXX766  Conven  3002060XXXX766     001   \n",
       "4  20241206      IM16IDR030203XXXX675  Conven      203XXXX675     121   \n",
       "\n",
       "  GCIF_CREATE_BR      REGION           AREA             BRANCH     GCIF_NO  \\\n",
       "0            110  JAWA BARAT   JAWA BARAT 4    KCI TASIKMALAYA  G000359935   \n",
       "1            016   JAKARTA 3         BEKASI  KCP HARAPAN INDAH  G000456624   \n",
       "2            016   JAKARTA 2  KELAPA GADING  KCI KELAPA GADING  G000456624   \n",
       "3            016   JAKARTA 2        EKAJIWA        KCI EKAJIWA  G000456624   \n",
       "4            075   JAKARTA 1     MT HARYONO     KCI MT HARYONO  G000459396   \n",
       "\n",
       "       CIF_NO CUST_TYPE                     PROD_NM  \\\n",
       "0  0006642982      INDV  Maybank Tabungan Woman One   \n",
       "1  0000044764  NON INDV            Maybank Deposito   \n",
       "2  0000044764  NON INDV                Maybank Giro   \n",
       "3  0000044764  NON INDV            Maybank Deposito   \n",
       "4  0000136071  NON INDV                Maybank Giro   \n",
       "\n",
       "                  SUB_PROD_NM         SEGMENT  ... MTD_AVG_AMT_FIX  \\\n",
       "0  Maybank Tabungan Woman One  CFS-NONRB-RSME  ...     38823120.31   \n",
       "1            Maybank Deposito    CFS-NONRB-BB  ...     59310883.50   \n",
       "2                Maybank Giro    CFS-NONRB-BB  ...        58125.00   \n",
       "3            Maybank Deposito    CFS-NONRB-BB  ...     38369863.00   \n",
       "4                Maybank Giro  CFS-NONRB-RSME  ...      4919376.00   \n",
       "\n",
       "   MTD_INT_EXP  DTD       MTD         YTD   DIVISION   SOURCE  \\\n",
       "0          0.0  0.0       0.0  7503036.00  UNDEFINED  TBL_BAL   \n",
       "1          0.0  0.0       0.0        0.00  UNDEFINED  TBL_BAL   \n",
       "2          0.0  0.0 -105000.0  -542062.34  UNDEFINED  TBL_BAL   \n",
       "3          0.0  0.0       0.0        0.00  UNDEFINED  TBL_BAL   \n",
       "4          0.0  0.0  -55000.0  -649571.00  UNDEFINED  TBL_BAL   \n",
       "\n",
       "        SEGMENT_FIX  COF_MTD  MTD_INT_EXP  HIGH_COF_FLAG  LOB_SORT  CASA_TD  \\\n",
       "0  CFS-SMER & MICRO      0.0          0.0           None       1.0     CASA   \n",
       "1            CFS-BB      0.0          0.0           None       3.0       TD   \n",
       "2            CFS-BB      0.0          0.0           None       3.0     CASA   \n",
       "3            CFS-BB      0.0          0.0           None       3.0       TD   \n",
       "4  CFS-SMER & MICRO      0.0          0.0           None       1.0     CASA   \n",
       "\n",
       "  DTD_10B MTD_10B  \n",
       "0      NO      NO  \n",
       "1      NO      NO  \n",
       "2      NO      NO  \n",
       "3      NO      NO  \n",
       "4      NO      NO  \n",
       "\n",
       "[5 rows x 38 columns]"
      ]
     },
     "execution_count": 44,
     "metadata": {},
     "output_type": "execute_result"
    }
   ],
   "source": [
    "currFin.head()"
   ]
  },
  {
   "cell_type": "code",
   "execution_count": 45,
   "metadata": {},
   "outputs": [],
   "source": [
    "# Data date\n",
    "MF_date = currFin.iloc[0,0]\n",
    "RMR_date = df_RMR.iloc[0,0]\n",
    "Target_date = df_Target.iloc[0,0]"
   ]
  },
  {
   "cell_type": "code",
   "execution_count": 46,
   "metadata": {},
   "outputs": [],
   "source": [
    "currFin.to_csv(parDir+f'\\\\Temp_Result\\\\MF_{MF_date}.csv', index=False)"
   ]
  },
  {
   "cell_type": "code",
   "execution_count": 47,
   "metadata": {},
   "outputs": [
    {
     "name": "stdout",
     "output_type": "stream",
     "text": [
      "<class 'pandas.core.frame.DataFrame'>\n",
      "Index: 117468 entries, 0 to 117505\n",
      "Data columns (total 38 columns):\n",
      " #   Column           Non-Null Count   Dtype  \n",
      "---  ------           --------------   -----  \n",
      " 0   BASE_DT          117468 non-null  int32  \n",
      " 1   AGREE_ID         117468 non-null  object \n",
      " 2   FLAG             117468 non-null  object \n",
      " 3   ACCT_NO          117468 non-null  object \n",
      " 4   ACCT_BR          117426 non-null  object \n",
      " 5   GCIF_CREATE_BR   117425 non-null  object \n",
      " 6   REGION           117424 non-null  object \n",
      " 7   AREA             117424 non-null  object \n",
      " 8   BRANCH           117424 non-null  object \n",
      " 9   GCIF_NO          117426 non-null  object \n",
      " 10  CIF_NO           117426 non-null  object \n",
      " 11  CUST_TYPE        117426 non-null  object \n",
      " 12  PROD_NM          117426 non-null  object \n",
      " 13  SUB_PROD_NM      117426 non-null  object \n",
      " 14  SEGMENT          117468 non-null  object \n",
      " 15  GCIF_NAME        117468 non-null  object \n",
      " 16  PROD_TYPE        117468 non-null  object \n",
      " 17  CURR_CODE        117426 non-null  object \n",
      " 18  SUB_LOB_CD       117426 non-null  object \n",
      " 19  NPK_SALES        110823 non-null  object \n",
      " 20  COLT             1290 non-null    float64\n",
      " 21  RATE_DPK         117426 non-null  float64\n",
      " 22  BASE_AMT_FIX     117468 non-null  float64\n",
      " 23  MTD_AVG_AMT_FIX  117426 non-null  float64\n",
      " 24  MTD_INT_EXP      117426 non-null  float64\n",
      " 25  DTD              117313 non-null  float64\n",
      " 26  MTD              116895 non-null  float64\n",
      " 27  YTD              100028 non-null  float64\n",
      " 28  DIVISION         117468 non-null  object \n",
      " 29  SOURCE           117468 non-null  object \n",
      " 30  SEGMENT_FIX      117426 non-null  object \n",
      " 31  COF_MTD          117426 non-null  float64\n",
      " 32  MTD_INT_EXP      117426 non-null  float64\n",
      " 33  HIGH_COF_FLAG    0 non-null       object \n",
      " 34  LOB_SORT         117426 non-null  float64\n",
      " 35  CASA_TD          117426 non-null  object \n",
      " 36  DTD_10B          117426 non-null  object \n",
      " 37  MTD_10B          117426 non-null  object \n",
      "dtypes: float64(11), int32(1), object(26)\n",
      "memory usage: 34.5+ MB\n"
     ]
    }
   ],
   "source": [
    "currFin.info()"
   ]
  },
  {
   "cell_type": "markdown",
   "metadata": {},
   "source": [
    "# D. Save Result"
   ]
  },
  {
   "cell_type": "markdown",
   "metadata": {},
   "source": [
    "## 1. Connect to SFTP"
   ]
  },
  {
   "cell_type": "code",
   "execution_count": null,
   "metadata": {},
   "outputs": [],
   "source": [
    "# SFTP connection details\n",
    "hostname = '10.220.42.38'\n",
    "port = 22\n",
    "username = os.environ['UID']\n",
    "password = os.environ['UPW']"
   ]
  },
  {
   "cell_type": "markdown",
   "metadata": {},
   "source": [
    "## 2. Save to SFTP"
   ]
  },
  {
   "cell_type": "markdown",
   "metadata": {},
   "source": [
    "### a. Master Funding"
   ]
  },
  {
   "cell_type": "code",
   "execution_count": 46,
   "metadata": {},
   "outputs": [
    {
     "name": "stdout",
     "output_type": "stream",
     "text": [
      "An error occured: Authentication failed.\n"
     ]
    }
   ],
   "source": [
    "# convert dataframe to Memory\n",
    "csv_buffer = io.StringIO()\n",
    "MF.to_csv(csv_buffer, index=False)\n",
    "csv_buffer.seek(0) # reset buffer position to beginning\n",
    "\n",
    "# Save path\n",
    "remote_path = f'/PDA/PNR/DAILY_FUNDING/MF_{MF_date}.csv'\n",
    "\n",
    "# Estabilish SFTP connection\n",
    "try:\n",
    "    # Create the SSH client\n",
    "    ssh = paramiko.SSHClient()\n",
    "    ssh.load_system_host_keys()\n",
    "    ssh.set_missing_host_key_policy(paramiko.AutoAddPolicy)\n",
    "    ssh.connect(hostname, port=port, username=username, password=password)\n",
    "\n",
    "    # Open SFTP session\n",
    "    sftp = ssh.open_sftp()\n",
    "\n",
    "    # Write the buffer to the remote file\n",
    "    with sftp.file(remote_path, 'w') as remote_file:\n",
    "        remote_file.write(csv_buffer.getvalue())\n",
    "\n",
    "    print(f'File uploaded successfully to {remote_path}')\n",
    "except Exception as e:\n",
    "    print(f'An error occured: {e}')\n",
    "finally:\n",
    "    if 'sftp' in locals():\n",
    "        sftp.close()\n",
    "    if 'ssh' in locals():\n",
    "        ssh.close()"
   ]
  },
  {
   "cell_type": "markdown",
   "metadata": {},
   "source": [
    "### b. RMR"
   ]
  },
  {
   "cell_type": "code",
   "execution_count": null,
   "metadata": {},
   "outputs": [],
   "source": [
    "# Load YMKeeper\n",
    "YMRecordPrev = pd.read_csv(parDir+'\\\\Keeper\\YMKeeper.csv')\n",
    "RMRecordYM = YMRecordPrev.iloc[0,0]\n",
    "TargetRecordYM = YMRecordPrev.iloc[0,1]"
   ]
  },
  {
   "cell_type": "code",
   "execution_count": null,
   "metadata": {},
   "outputs": [],
   "source": [
    "if df_RMR.iloc[0,0] > RMRecordYM:\n",
    "    # convert dataframe to Memory\n",
    "    csv_buffer = io.StringIO()\n",
    "    df_RMR.to_csv(csv_buffer, index=False)\n",
    "    csv_buffer.seek(0) # reset buffer position to beginning\n",
    "\n",
    "    # Save path\n",
    "    remote_path = f'/PDA/PNR/DAILY_FUNDING/RMR_{RMR_date}.csv'\n",
    "\n",
    "    # Estabilish SFTP connection\n",
    "    try:\n",
    "        # Create the SSH client\n",
    "        ssh = paramiko.SSHClient()\n",
    "        ssh.load_system_host_keys()\n",
    "        ssh.set_missing_host_key_policy(paramiko.AutoAddPolicy)\n",
    "        ssh.connect(hostname, port=port, username=username, password=password)\n",
    "\n",
    "        # Open SFTP session\n",
    "        sftp = ssh.open_sftp()\n",
    "\n",
    "        # Write the buffer to the remote file\n",
    "        with sftp.file(remote_path, 'w') as remote_file:\n",
    "            remote_file.write(csv_buffer.getvalue())\n",
    "\n",
    "        print(f'File uploaded successfully to {remote_path}')\n",
    "    except Exception as e:\n",
    "        print(f'An error occured: {e}')\n",
    "    finally:\n",
    "        if 'sftp' in locals():\n",
    "            sftp.close()\n",
    "        if 'ssh' in locals():\n",
    "            ssh.close()"
   ]
  },
  {
   "cell_type": "markdown",
   "metadata": {},
   "source": [
    "### c. Target"
   ]
  },
  {
   "cell_type": "code",
   "execution_count": null,
   "metadata": {},
   "outputs": [],
   "source": [
    "if df_Target.iloc[0,0] > TargetRecordYM:\n",
    "    # convert dataframe to Memory\n",
    "    csv_buffer = io.StringIO()\n",
    "    df_Target.to_csv(csv_buffer, index=False)\n",
    "    csv_buffer.seek(0) # reset buffer position to beginning\n",
    "    # Save path\n",
    "    remote_path = f'/PDA/PNR/DAILY_FUNDING/Target_{Target_date}.csv'\n",
    "\n",
    "    # Estabilish SFTP connection\n",
    "    try:\n",
    "        # Create the SSH client\n",
    "        ssh = paramiko.SSHClient()\n",
    "        ssh.load_system_host_keys()\n",
    "        ssh.set_missing_host_key_policy(paramiko.AutoAddPolicy)\n",
    "        ssh.connect(hostname, port=port, username=username, password=password)\n",
    "\n",
    "        # Open SFTP session\n",
    "        sftp = ssh.open_sftp()\n",
    "\n",
    "        # Write the buffer to the remote file\n",
    "        with sftp.file(remote_path, 'w') as remote_file:\n",
    "            remote_file.write(csv_buffer.getvalue())\n",
    "\n",
    "        print(f'File uploaded successfully to {remote_path}')\n",
    "    except Exception as e:\n",
    "        print(f'An error occured: {e}')\n",
    "    finally:\n",
    "        if 'sftp' in locals():\n",
    "            sftp.close()\n",
    "        if 'ssh' in locals():\n",
    "            ssh.close()"
   ]
  },
  {
   "cell_type": "markdown",
   "metadata": {},
   "source": [
    "## 3. Save YM Keeper"
   ]
  },
  {
   "cell_type": "code",
   "execution_count": null,
   "metadata": {},
   "outputs": [],
   "source": [
    "# save RMR and Target YM\n",
    "YMRecord = pd.DataFrame({'RMR_YM':df_RMR.iloc[0,0]},\n",
    "                        {'Target_YM':df_Target.iloc[0,0]})\n",
    "YMRecord.to_csv(parDir+'\\\\Keeper\\YMKeeper.csv', index=False)"
   ]
  }
 ],
 "metadata": {
  "kernelspec": {
   "display_name": "Python 3",
   "language": "python",
   "name": "python3"
  },
  "language_info": {
   "codemirror_mode": {
    "name": "ipython",
    "version": 3
   },
   "file_extension": ".py",
   "mimetype": "text/x-python",
   "name": "python",
   "nbconvert_exporter": "python",
   "pygments_lexer": "ipython3",
   "version": "3.12.5"
  },
  "orig_nbformat": 4
 },
 "nbformat": 4,
 "nbformat_minor": 2
}
