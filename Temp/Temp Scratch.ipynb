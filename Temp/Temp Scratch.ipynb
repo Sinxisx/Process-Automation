{
 "cells": [
  {
   "cell_type": "code",
   "execution_count": 19,
   "metadata": {},
   "outputs": [],
   "source": [
    "import paramiko\n",
    "import pandas as pd\n",
    "from io import BytesIO \n",
    "import oracledb\n",
    "import pandas as pd\n",
    "from sqlalchemy import create_engine\n",
    "import os\n",
    "import logging\n",
    "from datetime import datetime"
   ]
  },
  {
   "cell_type": "markdown",
   "metadata": {},
   "source": [
    "# Setup Log"
   ]
  },
  {
   "cell_type": "code",
   "execution_count": 20,
   "metadata": {},
   "outputs": [],
   "source": [
    "log_file = f'Logs/DailyPuller_{datetime.now().strftime('%Y-%m-%d')}.log'"
   ]
  },
  {
   "cell_type": "code",
   "execution_count": 21,
   "metadata": {},
   "outputs": [],
   "source": [
    "logging.basicConfig(\n",
    "    level=logging.INFO,\n",
    "    format='%(asctime)s - %(levelname)s - %(message)s',\n",
    "    datefmt='%Y-%m-%d %H:%M:%S',\n",
    "    handlers=[\n",
    "        logging.FileHandler(log_file, mode='a'),\n",
    "        logging.StreamHandler()\n",
    "    ]\n",
    ")"
   ]
  },
  {
   "cell_type": "markdown",
   "metadata": {},
   "source": [
    "# A. XPOSE Fasilitas"
   ]
  },
  {
   "cell_type": "code",
   "execution_count": 22,
   "metadata": {},
   "outputs": [],
   "source": [
    "# server credentials\n",
    "hostname = '10.220.42.38'\n",
    "port = 22\n",
    "username = os.environ['UID']\n",
    "password = os.environ['UPW']"
   ]
  },
  {
   "cell_type": "code",
   "execution_count": 23,
   "metadata": {},
   "outputs": [],
   "source": [
    "# create ssh client\n",
    "ssh = paramiko.SSHClient()"
   ]
  },
  {
   "cell_type": "code",
   "execution_count": 24,
   "metadata": {},
   "outputs": [],
   "source": [
    "# load system ssh keys\n",
    "ssh.load_system_host_keys()"
   ]
  },
  {
   "cell_type": "code",
   "execution_count": 25,
   "metadata": {},
   "outputs": [],
   "source": [
    "# add missing host keys automaticallly\n",
    "ssh.set_missing_host_key_policy(paramiko.AutoAddPolicy)"
   ]
  },
  {
   "cell_type": "code",
   "execution_count": 26,
   "metadata": {},
   "outputs": [
    {
     "name": "stderr",
     "output_type": "stream",
     "text": [
      "2024-10-31 13:28:28 - INFO - Connected (version 2.0, client 6.6.2.451)\n"
     ]
    },
    {
     "name": "stderr",
     "output_type": "stream",
     "text": [
      "2024-10-31 13:28:29 - INFO - Authentication (password) successful!\n",
      "2024-10-31 13:28:29 - INFO - [chan 0] Opened sftp connection (server version 3)\n",
      "2024-10-31 14:26:10 - INFO - [chan 0] sftp session closed.\n",
      "2024-10-31 14:26:10 - INFO - Facility done.\n"
     ]
    }
   ],
   "source": [
    "try:\n",
    "    ssh.connect(hostname, port=port, username=username, password=password)\n",
    "    sftp = ssh.open_sftp()\n",
    "    remote_file_path = '/CLS/FASILITAS.DAT'\n",
    "    with sftp.file(remote_file_path, 'r') as remote_file:\n",
    "        file_data = remote_file.read()\n",
    "    csv_file = BytesIO(file_data)\n",
    "    Fasilitas = pd.read_csv(csv_file,sep='|', header=None,low_memory=False)\n",
    "    FDate = Fasilitas.iloc[0,0].astype(int)\n",
    "    sv_Fasilitas = f'E:/Pricing_Non_Retail/Christ/xpose/FASILITAS_{FDate}.DAT'\n",
    "    Fasilitas.to_csv(sv_Fasilitas, sep=\"|\", index=False)\n",
    "    sftp.close()\n",
    "    ssh.close()\n",
    "    logging.info('Facility done.')\n",
    "except:\n",
    "    logging.warning('SFTP login failed!')     \n",
    "    pass\n"
   ]
  },
  {
   "cell_type": "markdown",
   "metadata": {},
   "source": [
    "# Master Funding"
   ]
  },
  {
   "cell_type": "code",
   "execution_count": 27,
   "metadata": {},
   "outputs": [],
   "source": [
    "# credentials\n",
    "username = os.environ['DBA_USR']\n",
    "password = os.environ['DBA_PW']\n",
    "dsn = '10.220.50.121:1661/ANALYTIC'"
   ]
  },
  {
   "cell_type": "code",
   "execution_count": 28,
   "metadata": {},
   "outputs": [
    {
     "ename": "DatabaseError",
     "evalue": "ORA-28001: the password has expired\nHelp: https://docs.oracle.com/error-help/db/ora-28001/",
     "output_type": "error",
     "traceback": [
      "\u001b[1;31m---------------------------------------------------------------------------\u001b[0m",
      "\u001b[1;31mDatabaseError\u001b[0m                             Traceback (most recent call last)",
      "Cell \u001b[1;32mIn[28], line 2\u001b[0m\n\u001b[0;32m      1\u001b[0m \u001b[38;5;66;03m# create connection\u001b[39;00m\n\u001b[1;32m----> 2\u001b[0m connection \u001b[38;5;241m=\u001b[39m \u001b[43moracledb\u001b[49m\u001b[38;5;241;43m.\u001b[39;49m\u001b[43mconnect\u001b[49m\u001b[43m(\u001b[49m\u001b[43muser\u001b[49m\u001b[38;5;241;43m=\u001b[39;49m\u001b[43musername\u001b[49m\u001b[43m,\u001b[49m\u001b[43m \u001b[49m\u001b[43mpassword\u001b[49m\u001b[38;5;241;43m=\u001b[39;49m\u001b[43mpassword\u001b[49m\u001b[43m,\u001b[49m\u001b[43m \u001b[49m\u001b[43mdsn\u001b[49m\u001b[38;5;241;43m=\u001b[39;49m\u001b[43mdsn\u001b[49m\u001b[43m)\u001b[49m\n",
      "File \u001b[1;32mc:\\Users\\MR38804\\AppData\\Local\\anaconda3\\envs\\Py64\\Lib\\site-packages\\oracledb\\connection.py:1158\u001b[0m, in \u001b[0;36m_connection_factory.<locals>.connect\u001b[1;34m(dsn, pool, conn_class, params, **kwargs)\u001b[0m\n\u001b[0;32m   1156\u001b[0m     message \u001b[38;5;241m=\u001b[39m \u001b[38;5;124m\"\u001b[39m\u001b[38;5;124mpool must be an instance of oracledb.ConnectionPool\u001b[39m\u001b[38;5;124m\"\u001b[39m\n\u001b[0;32m   1157\u001b[0m     \u001b[38;5;28;01mraise\u001b[39;00m \u001b[38;5;167;01mTypeError\u001b[39;00m(message)\n\u001b[1;32m-> 1158\u001b[0m \u001b[38;5;28;01mreturn\u001b[39;00m \u001b[43mconn_class\u001b[49m\u001b[43m(\u001b[49m\u001b[43mdsn\u001b[49m\u001b[38;5;241;43m=\u001b[39;49m\u001b[43mdsn\u001b[49m\u001b[43m,\u001b[49m\u001b[43m \u001b[49m\u001b[43mpool\u001b[49m\u001b[38;5;241;43m=\u001b[39;49m\u001b[43mpool\u001b[49m\u001b[43m,\u001b[49m\u001b[43m \u001b[49m\u001b[43mparams\u001b[49m\u001b[38;5;241;43m=\u001b[39;49m\u001b[43mparams\u001b[49m\u001b[43m,\u001b[49m\u001b[43m \u001b[49m\u001b[38;5;241;43m*\u001b[39;49m\u001b[38;5;241;43m*\u001b[39;49m\u001b[43mkwargs\u001b[49m\u001b[43m)\u001b[49m\n",
      "File \u001b[1;32mc:\\Users\\MR38804\\AppData\\Local\\anaconda3\\envs\\Py64\\Lib\\site-packages\\oracledb\\connection.py:541\u001b[0m, in \u001b[0;36mConnection.__init__\u001b[1;34m(self, dsn, pool, params, **kwargs)\u001b[0m\n\u001b[0;32m    539\u001b[0m     \u001b[38;5;28;01melse\u001b[39;00m:\n\u001b[0;32m    540\u001b[0m         impl \u001b[38;5;241m=\u001b[39m thin_impl\u001b[38;5;241m.\u001b[39mThinConnImpl(dsn, params_impl)\n\u001b[1;32m--> 541\u001b[0m         \u001b[43mimpl\u001b[49m\u001b[38;5;241;43m.\u001b[39;49m\u001b[43mconnect\u001b[49m\u001b[43m(\u001b[49m\u001b[43mparams_impl\u001b[49m\u001b[43m)\u001b[49m\n\u001b[0;32m    542\u001b[0m \u001b[38;5;28;01melse\u001b[39;00m:\n\u001b[0;32m    543\u001b[0m     impl \u001b[38;5;241m=\u001b[39m thick_impl\u001b[38;5;241m.\u001b[39mThickConnImpl(dsn, params_impl)\n",
      "File \u001b[1;32msrc\\\\oracledb\\\\impl/thin/connection.pyx:381\u001b[0m, in \u001b[0;36moracledb.thin_impl.ThinConnImpl.connect\u001b[1;34m()\u001b[0m\n",
      "File \u001b[1;32msrc\\\\oracledb\\\\impl/thin/connection.pyx:377\u001b[0m, in \u001b[0;36moracledb.thin_impl.ThinConnImpl.connect\u001b[1;34m()\u001b[0m\n",
      "File \u001b[1;32msrc\\\\oracledb\\\\impl/thin/connection.pyx:337\u001b[0m, in \u001b[0;36moracledb.thin_impl.ThinConnImpl._connect_with_params\u001b[1;34m()\u001b[0m\n",
      "File \u001b[1;32msrc\\\\oracledb\\\\impl/thin/protocol.pyx:318\u001b[0m, in \u001b[0;36moracledb.thin_impl.Protocol._connect_phase_two\u001b[1;34m()\u001b[0m\n",
      "File \u001b[1;32msrc\\\\oracledb\\\\impl/thin/connection.pyx:291\u001b[0m, in \u001b[0;36moracledb.thin_impl.ThinConnImpl._connect_with_address\u001b[1;34m()\u001b[0m\n",
      "File \u001b[1;32msrc\\\\oracledb\\\\impl/thin/protocol.pyx:318\u001b[0m, in \u001b[0;36moracledb.thin_impl.Protocol._connect_phase_two\u001b[1;34m()\u001b[0m\n",
      "File \u001b[1;32msrc\\\\oracledb\\\\impl/thin/protocol.pyx:431\u001b[0m, in \u001b[0;36moracledb.thin_impl.Protocol._process_message\u001b[1;34m()\u001b[0m\n",
      "\u001b[1;31mDatabaseError\u001b[0m: ORA-28001: the password has expired\nHelp: https://docs.oracle.com/error-help/db/ora-28001/"
     ]
    }
   ],
   "source": [
    "# create connection\n",
    "connection = oracledb.connect(user=username, password=password, dsn=dsn)"
   ]
  },
  {
   "cell_type": "code",
   "execution_count": 11,
   "metadata": {},
   "outputs": [],
   "source": [
    "# create engine\n",
    "engine = create_engine('oracle+oracledb://', creator=lambda: connection)"
   ]
  },
  {
   "cell_type": "code",
   "execution_count": 12,
   "metadata": {},
   "outputs": [],
   "source": [
    "# # open and read the file as a single buffer\n",
    "# fd = open('test_db.sql', 'r')\n",
    "# sqlFile = fd.read()\n",
    "# fd.close()"
   ]
  },
  {
   "cell_type": "code",
   "execution_count": 13,
   "metadata": {},
   "outputs": [],
   "source": [
    "query = \"\"\"SELECT DISTINCT BASE_DT, AGREE_ID, FLAG, ACCT_NO, ACCT_BR, REGION, AREA, BRANCH, GCIF_NO, CIF_NO,\n",
    "SUB_PROD_NM, SEGMENT, GCIF_NAME, PROD_TYPE, CURR_CODE, RATE_DPK, BASE_AMOUNT, NPK_SALES, COLT\n",
    "FROM PDA.MASTER_FUNDING\n",
    "WHERE ((agree_id LIKE 'ST%' AND STATUS NOT IN ('03','04','05') AND system_type LIKE '8%' AND ctrl3 <>'797')\n",
    "OR (agree_id like 'IM%' and status not in ('04','05','08') and system_type like '8%' and ctrl3 <>'797' ))\n",
    "AND NOT SEGMENT = 'CFS-RB-5MB' \n",
    "AND BASE_DT=(SELECT MAX(BASE_DT) FROM PDA.MASTER_FUNDING)\"\"\"\n",
    "# (SELECT MAX(BASE_DT) FROM PDA.MASTER_FUNDING)"
   ]
  },
  {
   "cell_type": "code",
   "execution_count": 14,
   "metadata": {},
   "outputs": [],
   "source": [
    "MF = pd.read_sql(query, engine)"
   ]
  },
  {
   "cell_type": "code",
   "execution_count": 15,
   "metadata": {},
   "outputs": [],
   "source": [
    "MFDate = MF.iloc[0,0]"
   ]
  },
  {
   "cell_type": "code",
   "execution_count": 16,
   "metadata": {},
   "outputs": [],
   "source": [
    "sv_MF = f'E:/Pricing_Non_Retail/Ghazi/Master Funding/MASTER_FUNDING_{MFDate}.csv'"
   ]
  },
  {
   "cell_type": "code",
   "execution_count": 17,
   "metadata": {},
   "outputs": [],
   "source": [
    "MF.to_csv(sv_MF, sep=\",\", index=False)"
   ]
  },
  {
   "cell_type": "code",
   "execution_count": 18,
   "metadata": {},
   "outputs": [
    {
     "name": "stderr",
     "output_type": "stream",
     "text": [
      "2024-10-25 16:48:37 - INFO - Master funding done.\n"
     ]
    },
    {
     "name": "stderr",
     "output_type": "stream",
     "text": [
      "2024-10-25 16:54:27 - INFO - Disconnect (code 11): Login grace-time exceeded\n"
     ]
    }
   ],
   "source": [
    "logging.info('Master funding done.')"
   ]
  }
 ],
 "metadata": {
  "kernelspec": {
   "display_name": "Python 3",
   "language": "python",
   "name": "python3"
  },
  "language_info": {
   "codemirror_mode": {
    "name": "ipython",
    "version": 3
   },
   "file_extension": ".py",
   "mimetype": "text/x-python",
   "name": "python",
   "nbconvert_exporter": "python",
   "pygments_lexer": "ipython3",
   "version": "3.12.5"
  }
 },
 "nbformat": 4,
 "nbformat_minor": 2
}
